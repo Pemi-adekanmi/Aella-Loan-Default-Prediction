{
  "nbformat": 4,
  "nbformat_minor": 0,
  "metadata": {
    "colab": {
      "name": "Aella.ipynb",
      "provenance": [],
      "authorship_tag": "ABX9TyOtA4tlx3nkp4gioc3hrPqj",
      "include_colab_link": true
    },
    "kernelspec": {
      "name": "python3",
      "display_name": "Python 3"
    },
    "language_info": {
      "name": "python"
    }
  },
  "cells": [
    {
      "cell_type": "markdown",
      "metadata": {
        "id": "view-in-github",
        "colab_type": "text"
      },
      "source": [
        "<a href=\"https://colab.research.google.com/github/Pemi-adekanmi/Aella-Loan-Default-Prediction/blob/main/Aella.ipynb\" target=\"_parent\"><img src=\"https://colab.research.google.com/assets/colab-badge.svg\" alt=\"Open In Colab\"/></a>"
      ]
    },
    {
      "cell_type": "markdown",
      "metadata": {
        "id": "HmZ6eApjokh3"
      },
      "source": [
        "### Importing the Standard Libraries"
      ]
    },
    {
      "cell_type": "code",
      "metadata": {
        "colab": {
          "base_uri": "https://localhost:8080/"
        },
        "id": "cO-0yHAmo7vH",
        "outputId": "1b5d1603-6a77-46d7-aa15-01de8a758eee"
      },
      "source": [
        "!pip install -q xgboost==0.4a30"
      ],
      "execution_count": 1,
      "outputs": [
        {
          "output_type": "stream",
          "text": [
            "\u001b[?25l\r\u001b[K     |▍                               | 10kB 19.9MB/s eta 0:00:01\r\u001b[K     |▉                               | 20kB 13.4MB/s eta 0:00:01\r\u001b[K     |█▎                              | 30kB 9.3MB/s eta 0:00:01\r\u001b[K     |█▊                              | 40kB 7.5MB/s eta 0:00:01\r\u001b[K     |██▏                             | 51kB 4.2MB/s eta 0:00:01\r\u001b[K     |██▋                             | 61kB 4.8MB/s eta 0:00:01\r\u001b[K     |███                             | 71kB 5.0MB/s eta 0:00:01\r\u001b[K     |███▌                            | 81kB 5.2MB/s eta 0:00:01\r\u001b[K     |████                            | 92kB 5.0MB/s eta 0:00:01\r\u001b[K     |████▍                           | 102kB 4.0MB/s eta 0:00:01\r\u001b[K     |████▉                           | 112kB 4.0MB/s eta 0:00:01\r\u001b[K     |█████▏                          | 122kB 4.0MB/s eta 0:00:01\r\u001b[K     |█████▋                          | 133kB 4.0MB/s eta 0:00:01\r\u001b[K     |██████                          | 143kB 4.0MB/s eta 0:00:01\r\u001b[K     |██████▌                         | 153kB 4.0MB/s eta 0:00:01\r\u001b[K     |███████                         | 163kB 4.0MB/s eta 0:00:01\r\u001b[K     |███████▍                        | 174kB 4.0MB/s eta 0:00:01\r\u001b[K     |███████▉                        | 184kB 4.0MB/s eta 0:00:01\r\u001b[K     |████████▎                       | 194kB 4.0MB/s eta 0:00:01\r\u001b[K     |████████▊                       | 204kB 4.0MB/s eta 0:00:01\r\u001b[K     |█████████▏                      | 215kB 4.0MB/s eta 0:00:01\r\u001b[K     |█████████▋                      | 225kB 4.0MB/s eta 0:00:01\r\u001b[K     |██████████                      | 235kB 4.0MB/s eta 0:00:01\r\u001b[K     |██████████▍                     | 245kB 4.0MB/s eta 0:00:01\r\u001b[K     |██████████▉                     | 256kB 4.0MB/s eta 0:00:01\r\u001b[K     |███████████▎                    | 266kB 4.0MB/s eta 0:00:01\r\u001b[K     |███████████▊                    | 276kB 4.0MB/s eta 0:00:01\r\u001b[K     |████████████▏                   | 286kB 4.0MB/s eta 0:00:01\r\u001b[K     |████████████▋                   | 296kB 4.0MB/s eta 0:00:01\r\u001b[K     |█████████████                   | 307kB 4.0MB/s eta 0:00:01\r\u001b[K     |█████████████▌                  | 317kB 4.0MB/s eta 0:00:01\r\u001b[K     |██████████████                  | 327kB 4.0MB/s eta 0:00:01\r\u001b[K     |██████████████▍                 | 337kB 4.0MB/s eta 0:00:01\r\u001b[K     |██████████████▉                 | 348kB 4.0MB/s eta 0:00:01\r\u001b[K     |███████████████▏                | 358kB 4.0MB/s eta 0:00:01\r\u001b[K     |███████████████▋                | 368kB 4.0MB/s eta 0:00:01\r\u001b[K     |████████████████                | 378kB 4.0MB/s eta 0:00:01\r\u001b[K     |████████████████▌               | 389kB 4.0MB/s eta 0:00:01\r\u001b[K     |█████████████████               | 399kB 4.0MB/s eta 0:00:01\r\u001b[K     |█████████████████▍              | 409kB 4.0MB/s eta 0:00:01\r\u001b[K     |█████████████████▉              | 419kB 4.0MB/s eta 0:00:01\r\u001b[K     |██████████████████▎             | 430kB 4.0MB/s eta 0:00:01\r\u001b[K     |██████████████████▊             | 440kB 4.0MB/s eta 0:00:01\r\u001b[K     |███████████████████▏            | 450kB 4.0MB/s eta 0:00:01\r\u001b[K     |███████████████████▋            | 460kB 4.0MB/s eta 0:00:01\r\u001b[K     |████████████████████            | 471kB 4.0MB/s eta 0:00:01\r\u001b[K     |████████████████████▍           | 481kB 4.0MB/s eta 0:00:01\r\u001b[K     |████████████████████▉           | 491kB 4.0MB/s eta 0:00:01\r\u001b[K     |█████████████████████▎          | 501kB 4.0MB/s eta 0:00:01\r\u001b[K     |█████████████████████▊          | 512kB 4.0MB/s eta 0:00:01\r\u001b[K     |██████████████████████▏         | 522kB 4.0MB/s eta 0:00:01\r\u001b[K     |██████████████████████▋         | 532kB 4.0MB/s eta 0:00:01\r\u001b[K     |███████████████████████         | 542kB 4.0MB/s eta 0:00:01\r\u001b[K     |███████████████████████▌        | 552kB 4.0MB/s eta 0:00:01\r\u001b[K     |████████████████████████        | 563kB 4.0MB/s eta 0:00:01\r\u001b[K     |████████████████████████▍       | 573kB 4.0MB/s eta 0:00:01\r\u001b[K     |████████████████████████▉       | 583kB 4.0MB/s eta 0:00:01\r\u001b[K     |█████████████████████████▏      | 593kB 4.0MB/s eta 0:00:01\r\u001b[K     |█████████████████████████▋      | 604kB 4.0MB/s eta 0:00:01\r\u001b[K     |██████████████████████████      | 614kB 4.0MB/s eta 0:00:01\r\u001b[K     |██████████████████████████▌     | 624kB 4.0MB/s eta 0:00:01\r\u001b[K     |███████████████████████████     | 634kB 4.0MB/s eta 0:00:01\r\u001b[K     |███████████████████████████▍    | 645kB 4.0MB/s eta 0:00:01\r\u001b[K     |███████████████████████████▉    | 655kB 4.0MB/s eta 0:00:01\r\u001b[K     |████████████████████████████▎   | 665kB 4.0MB/s eta 0:00:01\r\u001b[K     |████████████████████████████▊   | 675kB 4.0MB/s eta 0:00:01\r\u001b[K     |█████████████████████████████▏  | 686kB 4.0MB/s eta 0:00:01\r\u001b[K     |█████████████████████████████▋  | 696kB 4.0MB/s eta 0:00:01\r\u001b[K     |██████████████████████████████  | 706kB 4.0MB/s eta 0:00:01\r\u001b[K     |██████████████████████████████▍ | 716kB 4.0MB/s eta 0:00:01\r\u001b[K     |██████████████████████████████▉ | 727kB 4.0MB/s eta 0:00:01\r\u001b[K     |███████████████████████████████▎| 737kB 4.0MB/s eta 0:00:01\r\u001b[K     |███████████████████████████████▊| 747kB 4.0MB/s eta 0:00:01\r\u001b[K     |████████████████████████████████| 757kB 4.0MB/s \n",
            "\u001b[?25h  Building wheel for xgboost (setup.py) ... \u001b[?25l\u001b[?25hdone\n"
          ],
          "name": "stdout"
        }
      ]
    },
    {
      "cell_type": "code",
      "metadata": {
        "id": "r-lJu0JJsG94"
      },
      "source": [
        "import pandas as pd\n",
        "import numpy as np\n",
        "import matplotlib.pyplot as plt\n",
        "import seaborn as sns\n",
        "sns.set()\n",
        "pd.set_option('display.max_columns', None)\n",
        "from sklearn.preprocessing import LabelEncoder\n",
        "from sklearn.metrics import roc_auc_score, plot_confusion_matrix, plot_roc_curve\n",
        "from sklearn.model_selection import train_test_split\n",
        "from sklearn.ensemble import RandomForestClassifier, VotingClassifier\n",
        "from sklearn.preprocessing import StandardScaler, MinMaxScaler\n",
        "#from sklearn.pipeline import Pipeline\n",
        "from xgboost import XGBClassifier\n",
        "import warnings\n",
        "warnings.filterwarnings(\"ignore\")\n",
        "\n",
        "%matplotlib inline"
      ],
      "execution_count": 2,
      "outputs": []
    },
    {
      "cell_type": "markdown",
      "metadata": {
        "id": "VYVIHgi9FFSM"
      },
      "source": [
        "## Importing the Data"
      ]
    },
    {
      "cell_type": "code",
      "metadata": {
        "id": "dDHqCHO9udzb"
      },
      "source": [
        "data = pd.read_csv('Default_Fin.csv')"
      ],
      "execution_count": 3,
      "outputs": []
    },
    {
      "cell_type": "code",
      "metadata": {
        "colab": {
          "base_uri": "https://localhost:8080/",
          "height": 204
        },
        "id": "8EdXujRUwhAg",
        "outputId": "fb5d36f3-43fd-4bf5-c906-add0f7272300"
      },
      "source": [
        "data.head()"
      ],
      "execution_count": 4,
      "outputs": [
        {
          "output_type": "execute_result",
          "data": {
            "text/html": [
              "<div>\n",
              "<style scoped>\n",
              "    .dataframe tbody tr th:only-of-type {\n",
              "        vertical-align: middle;\n",
              "    }\n",
              "\n",
              "    .dataframe tbody tr th {\n",
              "        vertical-align: top;\n",
              "    }\n",
              "\n",
              "    .dataframe thead th {\n",
              "        text-align: right;\n",
              "    }\n",
              "</style>\n",
              "<table border=\"1\" class=\"dataframe\">\n",
              "  <thead>\n",
              "    <tr style=\"text-align: right;\">\n",
              "      <th></th>\n",
              "      <th>Index</th>\n",
              "      <th>Employed</th>\n",
              "      <th>Bank Balance</th>\n",
              "      <th>Annual Salary</th>\n",
              "      <th>Defaulted?</th>\n",
              "    </tr>\n",
              "  </thead>\n",
              "  <tbody>\n",
              "    <tr>\n",
              "      <th>0</th>\n",
              "      <td>1</td>\n",
              "      <td>1</td>\n",
              "      <td>8754.36</td>\n",
              "      <td>532339.56</td>\n",
              "      <td>0</td>\n",
              "    </tr>\n",
              "    <tr>\n",
              "      <th>1</th>\n",
              "      <td>2</td>\n",
              "      <td>0</td>\n",
              "      <td>9806.16</td>\n",
              "      <td>145273.56</td>\n",
              "      <td>0</td>\n",
              "    </tr>\n",
              "    <tr>\n",
              "      <th>2</th>\n",
              "      <td>3</td>\n",
              "      <td>1</td>\n",
              "      <td>12882.60</td>\n",
              "      <td>381205.68</td>\n",
              "      <td>0</td>\n",
              "    </tr>\n",
              "    <tr>\n",
              "      <th>3</th>\n",
              "      <td>4</td>\n",
              "      <td>1</td>\n",
              "      <td>6351.00</td>\n",
              "      <td>428453.88</td>\n",
              "      <td>0</td>\n",
              "    </tr>\n",
              "    <tr>\n",
              "      <th>4</th>\n",
              "      <td>5</td>\n",
              "      <td>1</td>\n",
              "      <td>9427.92</td>\n",
              "      <td>461562.00</td>\n",
              "      <td>0</td>\n",
              "    </tr>\n",
              "  </tbody>\n",
              "</table>\n",
              "</div>"
            ],
            "text/plain": [
              "   Index  Employed  Bank Balance  Annual Salary  Defaulted?\n",
              "0      1         1       8754.36      532339.56           0\n",
              "1      2         0       9806.16      145273.56           0\n",
              "2      3         1      12882.60      381205.68           0\n",
              "3      4         1       6351.00      428453.88           0\n",
              "4      5         1       9427.92      461562.00           0"
            ]
          },
          "metadata": {
            "tags": []
          },
          "execution_count": 4
        }
      ]
    },
    {
      "cell_type": "code",
      "metadata": {
        "colab": {
          "base_uri": "https://localhost:8080/"
        },
        "id": "V4T9JArUwjKo",
        "outputId": "f95e0a9f-499e-4df6-d624-d8f3be76c63c"
      },
      "source": [
        "data.info()"
      ],
      "execution_count": 5,
      "outputs": [
        {
          "output_type": "stream",
          "text": [
            "<class 'pandas.core.frame.DataFrame'>\n",
            "RangeIndex: 10000 entries, 0 to 9999\n",
            "Data columns (total 5 columns):\n",
            " #   Column         Non-Null Count  Dtype  \n",
            "---  ------         --------------  -----  \n",
            " 0   Index          10000 non-null  int64  \n",
            " 1   Employed       10000 non-null  int64  \n",
            " 2   Bank Balance   10000 non-null  float64\n",
            " 3   Annual Salary  10000 non-null  float64\n",
            " 4   Defaulted?     10000 non-null  int64  \n",
            "dtypes: float64(2), int64(3)\n",
            "memory usage: 390.8 KB\n"
          ],
          "name": "stdout"
        }
      ]
    },
    {
      "cell_type": "code",
      "metadata": {
        "colab": {
          "base_uri": "https://localhost:8080/"
        },
        "id": "Ju6gIsBAyB7y",
        "outputId": "b6a0232b-0e89-4fbd-f458-116c14666025"
      },
      "source": [
        "data.isnull().sum()"
      ],
      "execution_count": 6,
      "outputs": [
        {
          "output_type": "execute_result",
          "data": {
            "text/plain": [
              "Index            0\n",
              "Employed         0\n",
              "Bank Balance     0\n",
              "Annual Salary    0\n",
              "Defaulted?       0\n",
              "dtype: int64"
            ]
          },
          "metadata": {
            "tags": []
          },
          "execution_count": 6
        }
      ]
    },
    {
      "cell_type": "markdown",
      "metadata": {
        "id": "tLwqbPtDp5E0"
      },
      "source": [
        "## Analysis on Defaulted Customers"
      ]
    },
    {
      "cell_type": "markdown",
      "metadata": {
        "id": "6NWFUfEIXhlA"
      },
      "source": [
        "Data irregularities is a norm in real-world data as they are usually dirty and messy and will require thorough cleaning and transformation. Surprisingly, this dataset has no anomalies or irregularities. Nonetheless, we'll do some analysis to gain insight into the data."
      ]
    },
    {
      "cell_type": "markdown",
      "metadata": {
        "id": "wcE1LwbFFtCc"
      },
      "source": [
        "Let's check out customers that are employed and those are not and see how it affects the default rate. 0 denotes unemployed while 1 employed."
      ]
    },
    {
      "cell_type": "code",
      "metadata": {
        "colab": {
          "base_uri": "https://localhost:8080/",
          "height": 301
        },
        "id": "WI9NPiNdPfeA",
        "outputId": "14798967-9bc4-45ba-d9d5-ce818d8d442e"
      },
      "source": [
        "sns.countplot(data.Employed)\n",
        "plt.title('Employment Distribution');"
      ],
      "execution_count": 7,
      "outputs": [
        {
          "output_type": "display_data",
          "data": {
            "image/png": "[encoded data removed]",
            "text/plain": [
              "<Figure size 432x288 with 1 Axes>"
            ]
          },
          "metadata": {
            "tags": [],
            "needs_background": "light"
          }
        }
      ]
    },
    {
      "cell_type": "code",
      "metadata": {
        "colab": {
          "base_uri": "https://localhost:8080/",
          "height": 301
        },
        "id": "_kLe8_G-VxpS",
        "outputId": "9cf306fa-6363-4069-ed54-6b62cd275c4d"
      },
      "source": [
        "sns.countplot(data['Defaulted?'])\n",
        "plt.title('Defaulted Distribution');"
      ],
      "execution_count": 8,
      "outputs": [
        {
          "output_type": "display_data",
          "data": {
            "image/png": "[encoded data removed]",
            "text/plain": [
              "<Figure size 432x288 with 1 Axes>"
            ]
          },
          "metadata": {
            "tags": [],
            "needs_background": "light"
          }
        }
      ]
    },
    {
      "cell_type": "markdown",
      "metadata": {
        "id": "dvDfDsUslifK"
      },
      "source": [
        "From the visualization above, I think it is safe to assume that unemployed customers have a higher tendency on defaulting on a loan due to unstable source of income. "
      ]
    },
    {
      "cell_type": "code",
      "metadata": {
        "colab": {
          "base_uri": "https://localhost:8080/"
        },
        "id": "MSpFu00AELgH",
        "outputId": "2c5d02db-11b3-410f-a070-5c7a273de38c"
      },
      "source": [
        "data['Annual Salary']"
      ],
      "execution_count": 12,
      "outputs": [
        {
          "output_type": "execute_result",
          "data": {
            "text/plain": [
              "0       532339.56\n",
              "1       145273.56\n",
              "2       381205.68\n",
              "3       428453.88\n",
              "4       461562.00\n",
              "          ...    \n",
              "9995    635908.56\n",
              "9996    235928.64\n",
              "9997    703633.92\n",
              "9998    440029.32\n",
              "9999    202355.40\n",
              "Name: Annual Salary, Length: 10000, dtype: float64"
            ]
          },
          "metadata": {
            "tags": []
          },
          "execution_count": 12
        }
      ]
    },
    {
      "cell_type": "code",
      "metadata": {
        "colab": {
          "base_uri": "https://localhost:8080/"
        },
        "id": "3nZFUqTIKcoq",
        "outputId": "c9d8e040-dd58-4dbd-aedf-e0157aa3bfb0"
      },
      "source": [
        "data['Bank Balance']"
      ],
      "execution_count": 22,
      "outputs": [
        {
          "output_type": "execute_result",
          "data": {
            "text/plain": [
              "0        8754.36\n",
              "1        9806.16\n",
              "2       12882.60\n",
              "3        6351.00\n",
              "4        9427.92\n",
              "          ...   \n",
              "9995     8538.72\n",
              "9996     9095.52\n",
              "9997    10144.92\n",
              "9998    18828.12\n",
              "9999     2411.04\n",
              "Name: Bank Balance, Length: 10000, dtype: float64"
            ]
          },
          "metadata": {
            "tags": []
          },
          "execution_count": 22
        }
      ]
    },
    {
      "cell_type": "code",
      "metadata": {
        "colab": {
          "base_uri": "https://localhost:8080/",
          "height": 285
        },
        "id": "Hhw40PzMBZst",
        "outputId": "b3b1ca24-f25c-4fff-9b88-50ae83dca207"
      },
      "source": [
        "import matplotlib.pyplot as plt\n",
        "plt.scatter(data['Defaulted?'], data['Annual Salary'], color='blue')"
      ],
      "execution_count": 23,
      "outputs": [
        {
          "output_type": "execute_result",
          "data": {
            "text/plain": [
              "<matplotlib.collections.PathCollection at 0x7efc67ae1210>"
            ]
          },
          "metadata": {
            "tags": []
          },
          "execution_count": 23
        },
        {
          "output_type": "display_data",
          "data": {
            "image/png": "[encoded data removed]",
            "text/plain": [
              "<Figure size 432x288 with 1 Axes>"
            ]
          },
          "metadata": {
            "tags": [],
            "needs_background": "light"
          }
        }
      ]
    },
    {
      "cell_type": "markdown",
      "metadata": {
        "id": "xp3Vw-gYMB_m"
      },
      "source": [
        "Checking the correlation between the features and target variable"
      ]
    },
    {
      "cell_type": "code",
      "metadata": {
        "colab": {
          "base_uri": "https://localhost:8080/",
          "height": 338
        },
        "id": "WrvQSgULX-s8",
        "outputId": "1bb7cf1d-b807-4e23-da5b-8b2b8db2f572"
      },
      "source": [
        "\n",
        "data.corr('spearman')['Defaulted?'][:-1].plot.barh(figsize=(8,5), \n",
        "                                          title='Correlation of Features with the Target variable');"
      ],
      "execution_count": 24,
      "outputs": [
        {
          "output_type": "display_data",
          "data": {
            "image/png": "[encoded data removed]",
            "text/plain": [
              "<Figure size 576x360 with 1 Axes>"
            ]
          },
          "metadata": {
            "tags": [],
            "needs_background": "light"
          }
        }
      ]
    },
    {
      "cell_type": "markdown",
      "metadata": {
        "id": "SRC6wcuxrFgm"
      },
      "source": [
        "## Data Preprocessing"
      ]
    },
    {
      "cell_type": "code",
      "metadata": {
        "colab": {
          "base_uri": "https://localhost:8080/"
        },
        "id": "tRKAN-KOzhIa",
        "outputId": "1cfae19a-328a-4521-91f8-cef013a23e2c"
      },
      "source": [
        "X = data.iloc[:, 1:4]\n",
        "X.head()\n",
        "y = data.iloc[:, -1]\n",
        "y.head()"
      ],
      "execution_count": 25,
      "outputs": [
        {
          "output_type": "execute_result",
          "data": {
            "text/plain": [
              "0    0\n",
              "1    0\n",
              "2    0\n",
              "3    0\n",
              "4    0\n",
              "Name: Defaulted?, dtype: int64"
            ]
          },
          "metadata": {
            "tags": []
          },
          "execution_count": 25
        }
      ]
    },
    {
      "cell_type": "code",
      "metadata": {
        "colab": {
          "base_uri": "https://localhost:8080/",
          "height": 419
        },
        "id": "21AaUQy8Khm9",
        "outputId": "13371c91-d569-4d3d-e959-7a3216db3cc8"
      },
      "source": [
        "X"
      ],
      "execution_count": 26,
      "outputs": [
        {
          "output_type": "execute_result",
          "data": {
            "text/html": [
              "<div>\n",
              "<style scoped>\n",
              "    .dataframe tbody tr th:only-of-type {\n",
              "        vertical-align: middle;\n",
              "    }\n",
              "\n",
              "    .dataframe tbody tr th {\n",
              "        vertical-align: top;\n",
              "    }\n",
              "\n",
              "    .dataframe thead th {\n",
              "        text-align: right;\n",
              "    }\n",
              "</style>\n",
              "<table border=\"1\" class=\"dataframe\">\n",
              "  <thead>\n",
              "    <tr style=\"text-align: right;\">\n",
              "      <th></th>\n",
              "      <th>Employed</th>\n",
              "      <th>Bank Balance</th>\n",
              "      <th>Annual Salary</th>\n",
              "    </tr>\n",
              "  </thead>\n",
              "  <tbody>\n",
              "    <tr>\n",
              "      <th>0</th>\n",
              "      <td>1</td>\n",
              "      <td>8754.36</td>\n",
              "      <td>532339.56</td>\n",
              "    </tr>\n",
              "    <tr>\n",
              "      <th>1</th>\n",
              "      <td>0</td>\n",
              "      <td>9806.16</td>\n",
              "      <td>145273.56</td>\n",
              "    </tr>\n",
              "    <tr>\n",
              "      <th>2</th>\n",
              "      <td>1</td>\n",
              "      <td>12882.60</td>\n",
              "      <td>381205.68</td>\n",
              "    </tr>\n",
              "    <tr>\n",
              "      <th>3</th>\n",
              "      <td>1</td>\n",
              "      <td>6351.00</td>\n",
              "      <td>428453.88</td>\n",
              "    </tr>\n",
              "    <tr>\n",
              "      <th>4</th>\n",
              "      <td>1</td>\n",
              "      <td>9427.92</td>\n",
              "      <td>461562.00</td>\n",
              "    </tr>\n",
              "    <tr>\n",
              "      <th>...</th>\n",
              "      <td>...</td>\n",
              "      <td>...</td>\n",
              "      <td>...</td>\n",
              "    </tr>\n",
              "    <tr>\n",
              "      <th>9995</th>\n",
              "      <td>1</td>\n",
              "      <td>8538.72</td>\n",
              "      <td>635908.56</td>\n",
              "    </tr>\n",
              "    <tr>\n",
              "      <th>9996</th>\n",
              "      <td>1</td>\n",
              "      <td>9095.52</td>\n",
              "      <td>235928.64</td>\n",
              "    </tr>\n",
              "    <tr>\n",
              "      <th>9997</th>\n",
              "      <td>1</td>\n",
              "      <td>10144.92</td>\n",
              "      <td>703633.92</td>\n",
              "    </tr>\n",
              "    <tr>\n",
              "      <th>9998</th>\n",
              "      <td>1</td>\n",
              "      <td>18828.12</td>\n",
              "      <td>440029.32</td>\n",
              "    </tr>\n",
              "    <tr>\n",
              "      <th>9999</th>\n",
              "      <td>0</td>\n",
              "      <td>2411.04</td>\n",
              "      <td>202355.40</td>\n",
              "    </tr>\n",
              "  </tbody>\n",
              "</table>\n",
              "<p>10000 rows × 3 columns</p>\n",
              "</div>"
            ],
            "text/plain": [
              "      Employed  Bank Balance  Annual Salary\n",
              "0            1       8754.36      532339.56\n",
              "1            0       9806.16      145273.56\n",
              "2            1      12882.60      381205.68\n",
              "3            1       6351.00      428453.88\n",
              "4            1       9427.92      461562.00\n",
              "...        ...           ...            ...\n",
              "9995         1       8538.72      635908.56\n",
              "9996         1       9095.52      235928.64\n",
              "9997         1      10144.92      703633.92\n",
              "9998         1      18828.12      440029.32\n",
              "9999         0       2411.04      202355.40\n",
              "\n",
              "[10000 rows x 3 columns]"
            ]
          },
          "metadata": {
            "tags": []
          },
          "execution_count": 26
        }
      ]
    },
    {
      "cell_type": "code",
      "metadata": {
        "id": "7ur_lilhDHp1"
      },
      "source": [
        "from sklearn.model_selection import train_test_split\n",
        "X_train, X_test, y_train, y_test = train_test_split(X, y, test_size=0.3,random_state=0)"
      ],
      "execution_count": 27,
      "outputs": []
    },
    {
      "cell_type": "markdown",
      "metadata": {
        "id": "_bjGoUEPds9F"
      },
      "source": [
        "## Feature Scaling"
      ]
    },
    {
      "cell_type": "markdown",
      "metadata": {
        "id": "gKwYiKOc14s5"
      },
      "source": [
        "We'll need to apply feature scaling in order to make the model to interprete the features on the same scale as this will aid the model to make accurate prediction. "
      ]
    },
    {
      "cell_type": "code",
      "metadata": {
        "id": "it7GNVq5QoeL"
      },
      "source": [
        "SC = StandardScaler()\n",
        "X_train = SC.fit_transform(X_train)\n",
        "X_test = SC.transform(X_test)"
      ],
      "execution_count": 28,
      "outputs": []
    },
    {
      "cell_type": "markdown",
      "metadata": {
        "id": "fPpIJ-acraOC"
      },
      "source": [
        "##Predictive Modelling"
      ]
    },
    {
      "cell_type": "markdown",
      "metadata": {
        "id": "AKcLuv1PMXtg"
      },
      "source": [
        "### USING RANDOM FOREST CLASSIFIER"
      ]
    },
    {
      "cell_type": "code",
      "metadata": {
        "id": "SKbP-uQlHFwe"
      },
      "source": [
        "from sklearn.ensemble import RandomForestClassifier\n",
        "classifier = RandomForestClassifier(random_state=0, n_jobs=-1)\n",
        "model = classifier.fit(X_train, y_train)"
      ],
      "execution_count": 29,
      "outputs": []
    },
    {
      "cell_type": "markdown",
      "metadata": {
        "id": "vv9wEOHKXqpV"
      },
      "source": [
        "### Key drivers to Model's Prediction\n",
        "Let's grade the features by their uniqueness and importance to our model"
      ]
    },
    {
      "cell_type": "code",
      "metadata": {
        "colab": {
          "base_uri": "https://localhost:8080/",
          "height": 301
        },
        "id": "dSJvMZ_cNkHb",
        "outputId": "ea129bac-ccb8-4d7b-ca79-f003f8ab18e4"
      },
      "source": [
        "features = list(data.columns)[:3]\n",
        "importances = classifier.feature_importances_[:3]\n",
        "indices = np.argsort(importances)[:3]\n",
        "\n",
        "plt.title('Features Importance')\n",
        "plt.barh(range(len(indices)), importances[indices], color='g', align='center')\n",
        "plt.yticks(range(len(indices)), [features[i] for i in indices])\n",
        "plt.xlabel('Relative Importance')\n",
        "plt.show()"
      ],
      "execution_count": 30,
      "outputs": [
        {
          "output_type": "display_data",
          "data": {
            "image/png": "[encoded data removed]",
            "text/plain": [
              "<Figure size 432x288 with 1 Axes>"
            ]
          },
          "metadata": {
            "tags": [],
            "needs_background": "light"
          }
        }
      ]
    },
    {
      "cell_type": "markdown",
      "metadata": {
        "id": "DtWwVBmEZyms"
      },
      "source": [
        "## Prediction From Random Forest Classifier "
      ]
    },
    {
      "cell_type": "code",
      "metadata": {
        "colab": {
          "base_uri": "https://localhost:8080/",
          "height": 419
        },
        "id": "RGb0y0gaXyDE",
        "outputId": "d73b4f5c-740a-4437-9067-37d1c78c6aa4"
      },
      "source": [
        "y_pred=classifier.predict(X_test)\n",
        "\n",
        "y_pred=pd.DataFrame(data=y_pred)\n",
        "y_pred"
      ],
      "execution_count": 33,
      "outputs": [
        {
          "output_type": "execute_result",
          "data": {
            "text/html": [
              "<div>\n",
              "<style scoped>\n",
              "    .dataframe tbody tr th:only-of-type {\n",
              "        vertical-align: middle;\n",
              "    }\n",
              "\n",
              "    .dataframe tbody tr th {\n",
              "        vertical-align: top;\n",
              "    }\n",
              "\n",
              "    .dataframe thead th {\n",
              "        text-align: right;\n",
              "    }\n",
              "</style>\n",
              "<table border=\"1\" class=\"dataframe\">\n",
              "  <thead>\n",
              "    <tr style=\"text-align: right;\">\n",
              "      <th></th>\n",
              "      <th>0</th>\n",
              "    </tr>\n",
              "  </thead>\n",
              "  <tbody>\n",
              "    <tr>\n",
              "      <th>0</th>\n",
              "      <td>0</td>\n",
              "    </tr>\n",
              "    <tr>\n",
              "      <th>1</th>\n",
              "      <td>0</td>\n",
              "    </tr>\n",
              "    <tr>\n",
              "      <th>2</th>\n",
              "      <td>0</td>\n",
              "    </tr>\n",
              "    <tr>\n",
              "      <th>3</th>\n",
              "      <td>0</td>\n",
              "    </tr>\n",
              "    <tr>\n",
              "      <th>4</th>\n",
              "      <td>0</td>\n",
              "    </tr>\n",
              "    <tr>\n",
              "      <th>...</th>\n",
              "      <td>...</td>\n",
              "    </tr>\n",
              "    <tr>\n",
              "      <th>2995</th>\n",
              "      <td>0</td>\n",
              "    </tr>\n",
              "    <tr>\n",
              "      <th>2996</th>\n",
              "      <td>0</td>\n",
              "    </tr>\n",
              "    <tr>\n",
              "      <th>2997</th>\n",
              "      <td>0</td>\n",
              "    </tr>\n",
              "    <tr>\n",
              "      <th>2998</th>\n",
              "      <td>0</td>\n",
              "    </tr>\n",
              "    <tr>\n",
              "      <th>2999</th>\n",
              "      <td>0</td>\n",
              "    </tr>\n",
              "  </tbody>\n",
              "</table>\n",
              "<p>3000 rows × 1 columns</p>\n",
              "</div>"
            ],
            "text/plain": [
              "      0\n",
              "0     0\n",
              "1     0\n",
              "2     0\n",
              "3     0\n",
              "4     0\n",
              "...  ..\n",
              "2995  0\n",
              "2996  0\n",
              "2997  0\n",
              "2998  0\n",
              "2999  0\n",
              "\n",
              "[3000 rows x 1 columns]"
            ]
          },
          "metadata": {
            "tags": []
          },
          "execution_count": 33
        }
      ]
    },
    {
      "cell_type": "markdown",
      "metadata": {
        "id": "u5UWZ4GLaim5"
      },
      "source": [
        "### Model Performance Evaluation using Confusion Matrix"
      ]
    },
    {
      "cell_type": "code",
      "metadata": {
        "id": "857xylPHdJ6O"
      },
      "source": [
        "from sklearn import metrics\n",
        "cm = metrics.confusion_matrix( y_test,y_pred , [1,0] )\n",
        "\n",
        "tp, fp, fn, tn = cm[0][0], cm[0][1], cm[1][0], cm[1][1]"
      ],
      "execution_count": 34,
      "outputs": []
    },
    {
      "cell_type": "code",
      "metadata": {
        "colab": {
          "base_uri": "https://localhost:8080/",
          "height": 302
        },
        "id": "uWi3WGalYVwS",
        "outputId": "8ca8c4b1-243d-4f29-a3b6-82769e5224ba"
      },
      "source": [
        "\n",
        "sns.heatmap(cm, annot=True,  fmt='.2f', xticklabels = [\"Defaulted\", \"Not Defaulted\"] , yticklabels = [\"Defaulted\", \"Not Defaulted\"] )\n",
        "plt.ylabel('True label')\n",
        "plt.xlabel('Predicted label')"
      ],
      "execution_count": 35,
      "outputs": [
        {
          "output_type": "execute_result",
          "data": {
            "text/plain": [
              "Text(0.5, 12.5, 'Predicted label')"
            ]
          },
          "metadata": {
            "tags": []
          },
          "execution_count": 35
        },
        {
          "output_type": "display_data",
          "data": {
            "image/png": "[encoded data removed]",
            "text/plain": [
              "<Figure size 432x288 with 2 Axes>"
            ]
          },
          "metadata": {
            "tags": [],
            "needs_background": "light"
          }
        }
      ]
    },
    {
      "cell_type": "markdown",
      "metadata": {
        "id": "MBsphIddu71-"
      },
      "source": [
        "## Checking For Accuracy"
      ]
    },
    {
      "cell_type": "code",
      "metadata": {
        "colab": {
          "base_uri": "https://localhost:8080/"
        },
        "id": "BNxKTROeY7Tm",
        "outputId": "4cb33181-8bc6-49ca-e619-73d5fe8a5e87"
      },
      "source": [
        "acc = metrics.accuracy_score( y_test, y_pred )\n",
        "prec = tp/(tp+fp)\n",
        "\n",
        "print('Accuracy: ' + str(np.round(acc *100)) +' %')\n"
      ],
      "execution_count": 36,
      "outputs": [
        {
          "output_type": "stream",
          "text": [
            "Accuracy: 97.0 %\n"
          ],
          "name": "stdout"
        }
      ]
    },
    {
      "cell_type": "markdown",
      "metadata": {
        "id": "_2KMztQAL991"
      },
      "source": [
        "### GRADIENT BOOSTING"
      ]
    },
    {
      "cell_type": "code",
      "metadata": {
        "colab": {
          "base_uri": "https://localhost:8080/"
        },
        "id": "JEjeppFOjvsb",
        "outputId": "605db069-428a-41b1-e73e-70267d2b87eb"
      },
      "source": [
        "xgb = XGBClassifier()\n",
        "xgb.fit(X_train, y_train)\n",
        "y_pred = xgb.predict(X_test)\n",
        "y_pred"
      ],
      "execution_count": 37,
      "outputs": [
        {
          "output_type": "execute_result",
          "data": {
            "text/plain": [
              "array([0, 0, 0, ..., 0, 0, 0])"
            ]
          },
          "metadata": {
            "tags": []
          },
          "execution_count": 37
        }
      ]
    },
    {
      "cell_type": "code",
      "metadata": {
        "colab": {
          "base_uri": "https://localhost:8080/"
        },
        "id": "mdSSUbbVlqG9",
        "outputId": "a69591ac-fab2-49b2-ed83-d2352a30ea74"
      },
      "source": [
        "cm = metrics.confusion_matrix(y_test, y_pred)\n",
        "cm"
      ],
      "execution_count": 38,
      "outputs": [
        {
          "output_type": "execute_result",
          "data": {
            "text/plain": [
              "array([[2876,   11],\n",
              "       [  73,   40]])"
            ]
          },
          "metadata": {
            "tags": []
          },
          "execution_count": 38
        }
      ]
    },
    {
      "cell_type": "markdown",
      "metadata": {
        "id": "Zba8n6H6sQ-1"
      },
      "source": [
        "## Validation Performance"
      ]
    },
    {
      "cell_type": "code",
      "metadata": {
        "id": "niCqAB3zm0By"
      },
      "source": [
        "from sklearn.model_selection import cross_val_score\n",
        "accuracies = cross_val_score(estimator = xgb, X = X_train, y = y_train, cv = 10)\n"
      ],
      "execution_count": 39,
      "outputs": []
    },
    {
      "cell_type": "markdown",
      "metadata": {
        "id": "Zra4QBqVbjJs"
      },
      "source": [
        "Checked for the mean of the accuracy because it gives an unbiased evaluation of our model across multiple folds/subsets."
      ]
    },
    {
      "cell_type": "code",
      "metadata": {
        "colab": {
          "base_uri": "https://localhost:8080/"
        },
        "id": "GS8WmvlnbZ_a",
        "outputId": "551c55c5-f5c3-4732-bae6-479f6634cca3"
      },
      "source": [
        "accuracies.mean().round()"
      ],
      "execution_count": 42,
      "outputs": [
        {
          "output_type": "execute_result",
          "data": {
            "text/plain": [
              "1.0"
            ]
          },
          "metadata": {
            "tags": []
          },
          "execution_count": 42
        }
      ]
    },
    {
      "cell_type": "code",
      "metadata": {
        "colab": {
          "base_uri": "https://localhost:8080/"
        },
        "id": "zU9jS9ikpLr2",
        "outputId": "0fa1a59f-dda2-4e9c-d031-08bb93e2f9f9"
      },
      "source": [
        "accuracies.std()"
      ],
      "execution_count": 41,
      "outputs": [
        {
          "output_type": "execute_result",
          "data": {
            "text/plain": [
              "0.0033926691677251394"
            ]
          },
          "metadata": {
            "tags": []
          },
          "execution_count": 41
        }
      ]
    }
  ]
}